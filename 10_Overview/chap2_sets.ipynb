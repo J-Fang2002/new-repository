{
 "cells": [
  {
   "cell_type": "markdown",
   "metadata": {},
   "source": [
    "## Sets and Set Algebra\n",
    "\n",
    "In this section, we will cover basic aspects of sets in python. We will then use this to illustrate some of the simple properties that we’ve seen from the algebra of sets and the algebra of transformations.\n",
    "\n",
    "* Introduction to sets and sets in python.\n",
    "\n",
    "* Illustration of basic operations, including subset, superset, intersections, and unions.\n",
    "\n",
    "* Illustration of more adanced notions, including: De Morgan's Laws; partitions versus non-partitions; distributive rule for intersection over union and distributive rule for unions over intersections; and how performing union/intersection with a given set is an idempotent operation.\n"
   ]
  },
  {
   "cell_type": "markdown",
   "metadata": {},
   "source": [
    "### Introduction to Sets\n",
    "\n",
    "Sets are collections of objects (without repetitions). Set theory dates back to the great German mathematician Georg Cantor (1845-1918) and forms the foundation of modern mathematics.\n",
    "\n",
    "We can describe a set by listing all its elements explicitly, for example\n",
    "\n",
    "$$\n",
    "M := \\{1,2,3,4,5,6\\}\n",
    "$$\n",
    "\n",
    "defines a set $M$. It is convention to use capital letters (e.g., A, B, C) to represent sets. The objects in a set are called elements and are represented by lower case letters (e.g., x, y, z). \n",
    "\n",
    "* We say $x$ is an element in $X$, or short $x\\in X$, if $x$ is contained in the set $X$. \n",
    "* Otherwise we say that $x$ is not an element of $X$, or short $x\\not\\in X$.\n",
    "\n",
    "For example 2 is an element in $M$, i.e., $2\\in M$. In contrast, 7 is not an element in $M$, i.e., $7\\not\\in M$. \n",
    "\n",
    "Our set $M$ contains 6 elements. We also say that the set $M$ has a cardinality of 6 and we can express this concisely as $|M|=6$.\n",
    "\n",
    "* If a set is not infinite, then the cardinality of a set is a measure of the \"number of elements\" of the set.\n",
    "\n",
    "Note, here we use the logical symbol $:=$ to define $M$ as an object that is equal to the set $\\{1,2,3,4,5,6\\}$. In contrast, the symbol $=$ expresses that the object on the left side is equal to the object on its right side. We will often be a bit sloppy and simply use $=$ to define a set, but it is good to keep in mind that there can be a difference between a definition and an equality. This is in particular import when we are writing code, e.g., `x=5` assigns the value 5 to `x` and this is different from the logical operation `x==5` which compares whether `x` is equal to 5. \n",
    "\n",
    "We can also define an infinite set, i.e., a set that has no last element as\n",
    "\n",
    "$$\n",
    "\\mathbb{N}^* := \\{1,2,3,...\\}.\n",
    "$$\n",
    "\n",
    "This set contains all positive integers, i.e., it is the set of all natural numbers without 0. (We call $\\{\\}$ the set brackets, and the dots $...$ are called ellipsis.)\n",
    "\n",
    "In many situations it would be tedious to list all elements. But, we can also define sets by stating properties that characterize its members. For example we can define $M$ more concisely as\n",
    "\n",
    "$$\n",
    "M := \\{x \\in \\mathbb{N}^* | x\\le 6\\}.\n",
    "$$\n",
    "\n",
    "Here we say that the element $x$ is a member of $\\mathbb{N}^*$ such that $x$ is smaller or equal to 6. When we define sets by stating properties we use typically the following notation \n",
    "\n",
    "$$\n",
    "\\{\\text{membership}|\\text{properties}\\}\n",
    "$$\n",
    "\n",
    "or \n",
    "\n",
    "$$\n",
    "\\{\\text{pattern}|\\text{membership}\\}.\n",
    "$$\n",
    "\n",
    "You have already seen an example for the first set notation, and here is an example for the second notation\n",
    "\n",
    "$$\n",
    "X := \\{2n | n \\in \\mathbb{N}^* \\}.\n",
    "$$\n",
    "\n",
    "This set contains all natural numbers that are divisible by 2."
   ]
  },
  {
   "cell_type": "markdown",
   "metadata": {},
   "source": [
    "### Sets in Python\n",
    "\n",
    "Python has a rich number of build-in set objects. Like mathematical sets, Python sets have the following properties:\n",
    "\n",
    "* Sets are unordered.\n",
    "* Set elements are unique.\n",
    "\n",
    "We can define a set in Python using the curly braces."
   ]
  },
  {
   "cell_type": "code",
   "execution_count": null,
   "metadata": {},
   "outputs": [],
   "source": [
    "M = {1,2,3,4,5,6}\n",
    "print(M)"
   ]
  },
  {
   "cell_type": "markdown",
   "metadata": {},
   "source": [
    "Let's check the type of this new object."
   ]
  },
  {
   "cell_type": "code",
   "execution_count": null,
   "metadata": {},
   "outputs": [],
   "source": [
    "type(M)"
   ]
  },
  {
   "cell_type": "markdown",
   "metadata": {},
   "source": [
    "To compute the cardinality of this set, we can use the `len()` function."
   ]
  },
  {
   "cell_type": "code",
   "execution_count": null,
   "metadata": {},
   "outputs": [],
   "source": [
    "len(M)"
   ]
  },
  {
   "cell_type": "markdown",
   "metadata": {},
   "source": [
    "We can also define a set by using the Python set function."
   ]
  },
  {
   "cell_type": "code",
   "execution_count": null,
   "metadata": {},
   "outputs": [],
   "source": [
    "set([1,2,3,4,5,6])"
   ]
  },
  {
   "cell_type": "markdown",
   "metadata": {},
   "source": [
    "More compactly, we can create the set as"
   ]
  },
  {
   "cell_type": "code",
   "execution_count": null,
   "metadata": {},
   "outputs": [],
   "source": [
    "{x for x in range(7) if x>0}"
   ]
  },
  {
   "cell_type": "markdown",
   "metadata": {},
   "source": [
    "Now let's create a few more sets."
   ]
  },
  {
   "cell_type": "code",
   "execution_count": null,
   "metadata": {},
   "outputs": [],
   "source": [
    "X = {6,5,4,3,2,1}\n",
    "Y = {1,2,3}\n",
    "Z = {x for x in range(10) if x>0}"
   ]
  },
  {
   "cell_type": "markdown",
   "metadata": {},
   "source": [
    "We can ask which of these sets is a subset of M. Recall, a set A is considered a subset of another set B if every element of A is in B."
   ]
  },
  {
   "cell_type": "code",
   "execution_count": null,
   "metadata": {},
   "outputs": [],
   "source": [
    "X.issubset(M)"
   ]
  },
  {
   "cell_type": "code",
   "execution_count": null,
   "metadata": {},
   "outputs": [],
   "source": [
    "Y.issubset(M)"
   ]
  },
  {
   "cell_type": "code",
   "execution_count": null,
   "metadata": {},
   "outputs": [],
   "source": [
    "Z.issubset(M)"
   ]
  },
  {
   "cell_type": "markdown",
   "metadata": {},
   "source": [
    "Of course, Z is not a subset of M. But it is a superset, since every element of M is in Z, right?"
   ]
  },
  {
   "cell_type": "code",
   "execution_count": null,
   "metadata": {},
   "outputs": [],
   "source": [
    "Z.issuperset(M)"
   ]
  },
  {
   "cell_type": "markdown",
   "metadata": {},
   "source": [
    "Finally, we can also check whether two sets are equal."
   ]
  },
  {
   "cell_type": "code",
   "execution_count": null,
   "metadata": {},
   "outputs": [],
   "source": [
    "M == X"
   ]
  },
  {
   "cell_type": "code",
   "execution_count": null,
   "metadata": {},
   "outputs": [],
   "source": [
    "M == Z"
   ]
  },
  {
   "cell_type": "markdown",
   "metadata": {},
   "source": [
    "### Basic Operations on Sets\n",
    "\n",
    "In order to work with sets we need to introduce some set operations first. To illustrate these operations, we define the sets $A=\\{2,3,4,5\\}$, $B=\\{4,5,6\\}$, and $\\Omega=\\{1,2,3,...9\\}$.\n",
    "\n",
    "Here is a summary of basic operations.\n",
    "\n",
    "* Union: $A \\cup B := \\{x | x\\in A \\,\\,\\, \\text{or} \\,\\,\\, x\\in B\\} = \\{x\\in A | x\\in B\\}$.\n",
    "  * The union $A \\cup B$ consists of the elements that appear in $A$ or $B$ or both.\n",
    "  * Example: $A \\cup B := \\{2,3,4,5,6\\}$ \n",
    " \n",
    " \n"
   ]
  },
  {
   "cell_type": "markdown",
   "metadata": {},
   "source": [
    "* Intersection:  $A \\cap B := \\{x| x\\in A \\,\\,\\, \\text{and} \\,\\,\\, x\\in B\\}$.\n",
    " * The intersection $A \\cap B$ consists of elements that appear in both A and B.\n",
    " * Example: $A \\cap B := \\{4,5\\}$ \n",
    "            "
   ]
  },
  {
   "cell_type": "markdown",
   "metadata": {},
   "source": [
    "* Complement:  $A^C := \\{x \\in \\Omega | x\\not\\in A\\}$, where $A \\subseteq \\Omega$.\n",
    " * The complement $A^C$ consists of all the elements of $\\Omega$ that are not in A.\n",
    " * Example: $A^C := \\{1,6,7,8,9\\}$ \n",
    " "
   ]
  },
  {
   "cell_type": "markdown",
   "metadata": {},
   "source": [
    "* Relative Complement:  $A\\backslash B := \\{x \\in A | x\\not\\in B\\}$.\n",
    " * The relative complement $A\\backslash B$ consists of all the elements in A but not in B.\n",
    " * Example: $A\\backslash B := \\{2,3\\}$ \n",
    " "
   ]
  },
  {
   "cell_type": "markdown",
   "metadata": {},
   "source": [
    "We say two sets are disjoint if there are no element in common between the two sets, i.e., $D\\cap E = \\emptyset$. In our example A and B are not disjoint. "
   ]
  },
  {
   "cell_type": "markdown",
   "metadata": {},
   "source": [
    "Now let's try to repeat this example in Python. First we have to define the sets."
   ]
  },
  {
   "cell_type": "code",
   "execution_count": null,
   "metadata": {},
   "outputs": [],
   "source": [
    "omega = {x for x in range(10) if x>0}\n",
    "print(omega)\n",
    "A = {x for x in omega if x>1 and x<6}\n",
    "print(A)\n",
    "B = {x for x in omega if x>3 and x<7}\n",
    "print(B)"
   ]
  },
  {
   "cell_type": "markdown",
   "metadata": {},
   "source": [
    "First, we compute the union $A \\cup B$."
   ]
  },
  {
   "cell_type": "code",
   "execution_count": null,
   "metadata": {},
   "outputs": [],
   "source": [
    "A.union(B)"
   ]
  },
  {
   "cell_type": "markdown",
   "metadata": {},
   "source": [
    "Next we compute the intersection $A \\cap B$"
   ]
  },
  {
   "cell_type": "code",
   "execution_count": null,
   "metadata": {},
   "outputs": [],
   "source": [
    "A.intersection(B)"
   ]
  },
  {
   "cell_type": "markdown",
   "metadata": {},
   "source": [
    "Next, we compute the relative complement $A \\backslash B$."
   ]
  },
  {
   "cell_type": "code",
   "execution_count": null,
   "metadata": {},
   "outputs": [],
   "source": [
    "A.difference(B)"
   ]
  },
  {
   "cell_type": "markdown",
   "metadata": {},
   "source": [
    "We can also use the difference function to compute the complement. "
   ]
  },
  {
   "cell_type": "code",
   "execution_count": null,
   "metadata": {},
   "outputs": [],
   "source": [
    "omega.difference(A)"
   ]
  },
  {
   "cell_type": "markdown",
   "metadata": {},
   "source": [
    "### De Morgan's laws\n",
    "\n",
    "Recall, that De Morgan's Laws relate the intersection and union of sets through complements. \n",
    "\n",
    "* $(A\\cup B)^c = A^c \\cap B^c$ (law of union)\n",
    "* $(A\\cap B)^c = A^c \\cup B^c$ (law of intersection)"
   ]
  },
  {
   "cell_type": "markdown",
   "metadata": {},
   "source": [
    "Let's try to verify these laws for our above example. "
   ]
  },
  {
   "cell_type": "code",
   "execution_count": null,
   "metadata": {},
   "outputs": [],
   "source": [
    "omega.difference(A.union(B))"
   ]
  },
  {
   "cell_type": "markdown",
   "metadata": {},
   "source": [
    "This set is equal to"
   ]
  },
  {
   "cell_type": "code",
   "execution_count": null,
   "metadata": {
    "lines_to_next_cell": 0
   },
   "outputs": [],
   "source": [
    "(omega.difference(A)).intersection(omega.difference(B))"
   ]
  },
  {
   "cell_type": "markdown",
   "metadata": {},
   "source": [
    "Hence, the law of unions holds for our example. You will verify the law of intersections for this example as a homework problem."
   ]
  },
  {
   "cell_type": "markdown",
   "metadata": {},
   "source": [
    "### Partitions\n",
    "Given a set, one often wants to split it into representative pieces. A partition of a set is such a splitting of the elements of the set into non-empty subsets, in such a way that every element is included in exactly one subset. Here is an example. "
   ]
  },
  {
   "cell_type": "code",
   "execution_count": null,
   "metadata": {},
   "outputs": [],
   "source": [
    "A = {x for x in range(1,11)}\n",
    "B = {1,3,5,7,9}\n",
    "C = {2,4,6,8,10}"
   ]
  },
  {
   "cell_type": "markdown",
   "metadata": {},
   "source": [
    "The set B and C partition the set A, i.e., the union of B and C contains all elements that are in A, while the intersection of B and C is the empty set."
   ]
  },
  {
   "cell_type": "code",
   "execution_count": null,
   "metadata": {},
   "outputs": [],
   "source": [
    "B.union(C) == A"
   ]
  },
  {
   "cell_type": "code",
   "execution_count": null,
   "metadata": {},
   "outputs": [],
   "source": [
    "B.intersection(C) "
   ]
  },
  {
   "cell_type": "markdown",
   "metadata": {},
   "source": [
    "Partitions are important if want to count the elemens of sets. The cardinality of A is"
   ]
  },
  {
   "cell_type": "code",
   "execution_count": null,
   "metadata": {},
   "outputs": [],
   "source": [
    "len(A)"
   ]
  },
  {
   "cell_type": "markdown",
   "metadata": {},
   "source": [
    "Since B and C are partitions, we have $|A| = |B| + |C|$"
   ]
  },
  {
   "cell_type": "code",
   "execution_count": null,
   "metadata": {},
   "outputs": [],
   "source": [
    "len(B) + len(C)"
   ]
  },
  {
   "cell_type": "markdown",
   "metadata": {},
   "source": [
    "Note, that this does not work for the following two sets, since they do not perform a partition of A."
   ]
  },
  {
   "cell_type": "code",
   "execution_count": null,
   "metadata": {},
   "outputs": [],
   "source": [
    "B = {1,2,3,4,5,6,7}\n",
    "C = {5,6,7,8,9,10}"
   ]
  },
  {
   "cell_type": "markdown",
   "metadata": {},
   "source": [
    "Again, the union of B and C contains all elements that are in A."
   ]
  },
  {
   "cell_type": "code",
   "execution_count": null,
   "metadata": {},
   "outputs": [],
   "source": [
    "B.union(C) == A"
   ]
  },
  {
   "cell_type": "markdown",
   "metadata": {},
   "source": [
    "But, the intersection yield a non-empty set."
   ]
  },
  {
   "cell_type": "code",
   "execution_count": null,
   "metadata": {},
   "outputs": [],
   "source": [
    "B.intersection(C) "
   ]
  },
  {
   "cell_type": "markdown",
   "metadata": {},
   "source": [
    "Now, things go wrong if we count the elements. "
   ]
  },
  {
   "cell_type": "code",
   "execution_count": null,
   "metadata": {},
   "outputs": [],
   "source": [
    "len(B) + len(C)"
   ]
  },
  {
   "cell_type": "markdown",
   "metadata": {},
   "source": [
    "To get the correct answer, we need to subtract the intersection of A and B, i.e. $|A| = |B| + |C| - |B\\cap C|$"
   ]
  },
  {
   "cell_type": "code",
   "execution_count": null,
   "metadata": {},
   "outputs": [],
   "source": [
    "len(B) + len(C) - len(B.intersection(C))"
   ]
  },
  {
   "cell_type": "markdown",
   "metadata": {},
   "source": [
    "### Distributive Rule"
   ]
  },
  {
   "cell_type": "markdown",
   "metadata": {},
   "source": [
    "We have the following two rules:\n",
    "* $A\\cap (B\\cup C) = (A\\cap B) \\cup (A\\cap C)$ (intersection distributed over union)\n",
    "* $A\\cup (B\\cap C) = (A\\cup B) \\cap (A\\cup C)$ (union distributes over intersection)"
   ]
  },
  {
   "cell_type": "markdown",
   "metadata": {},
   "source": [
    "Let's varify these rules for our example."
   ]
  },
  {
   "cell_type": "code",
   "execution_count": null,
   "metadata": {},
   "outputs": [],
   "source": [
    "A.intersection(B.union(C)) == (A.intersection(B)).union(A.intersection(C))"
   ]
  },
  {
   "cell_type": "code",
   "execution_count": null,
   "metadata": {},
   "outputs": [],
   "source": [
    "A.union(B.intersection(C)) == (A.union(B)).intersection(A.union(C))"
   ]
  },
  {
   "cell_type": "markdown",
   "metadata": {},
   "source": [
    "### Idempotence of unions\n",
    "\n",
    "One property of the union operation is that it is idempotent.  We know that, e.g., $A \\cup A = A$, but we can use this to get more interesting results.  In particular, this means that when we apply a union with a set multiple times, the result is the same as if we apply it once.  \n",
    "\n",
    "Here, we will demonstrate this with the sets $A=\\{1,2,\\dots,20\\}, B = \\{21,22,\\dots,40\\}$.  We will observe that $A\\cup B = (A\\cup B)\\cup B$.  \n",
    "\n",
    "Similarly, you should be able to verify on your own that $A\\cup B = A \\cup (A\\cup B)$."
   ]
  },
  {
   "cell_type": "code",
   "execution_count": null,
   "metadata": {},
   "outputs": [],
   "source": [
    "A = {x for x in range(1,21)}\n",
    "print(A)\n",
    "B = {x for x in range(21,41)}\n",
    "print(B)"
   ]
  },
  {
   "cell_type": "markdown",
   "metadata": {},
   "source": [
    "As we would expect, $A\\cup B = \\{1,2,\\dots, 39, 40\\}$:"
   ]
  },
  {
   "cell_type": "code",
   "execution_count": null,
   "metadata": {},
   "outputs": [],
   "source": [
    "A_union_B = A.union(B)\n",
    "print(A_union_B)"
   ]
  },
  {
   "cell_type": "markdown",
   "metadata": {},
   "source": [
    "Now let's apply the union with $B$ again, and see if this changes the set."
   ]
  },
  {
   "cell_type": "code",
   "execution_count": null,
   "metadata": {},
   "outputs": [],
   "source": [
    "A_union_B_union_B = A_union_B.union(B)\n",
    "print(A_union_B == A_union_B_union_B)"
   ]
  },
  {
   "cell_type": "markdown",
   "metadata": {},
   "source": [
    "Indeed, the set is unchanged from applying the union with $B$ twice. In the homework, we will see that a similar idempotence property holds for intersections."
   ]
  }
 ],
 "metadata": {
  "kernelspec": {
   "display_name": "Python 3",
   "language": "python",
   "name": "python3"
  }
 },
 "nbformat": 4,
 "nbformat_minor": 4
}
