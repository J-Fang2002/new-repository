{
 "cells": [
  {
   "cell_type": "markdown",
   "metadata": {},
   "source": [
    "# MatPlotLib \n",
    "\n",
    "## Basic Plots\n",
    "\n",
    "Plotting with MatPlotLib: we have to import another library."
   ]
  },
  {
   "cell_type": "code",
   "execution_count": null,
   "metadata": {},
   "outputs": [],
   "source": [
    "import numpy\n",
    "import matplotlib.pyplot as plt\n",
    "%matplotlib inline"
   ]
  },
  {
   "cell_type": "markdown",
   "metadata": {},
   "source": [
    "Define some points to plot"
   ]
  },
  {
   "cell_type": "code",
   "execution_count": null,
   "metadata": {},
   "outputs": [],
   "source": [
    "x1 = [-2,-1,0,1,2]\n",
    "x2 = [4,1,0,1,4]"
   ]
  },
  {
   "cell_type": "markdown",
   "metadata": {},
   "source": [
    "Do a first plot."
   ]
  },
  {
   "cell_type": "code",
   "execution_count": null,
   "metadata": {},
   "outputs": [],
   "source": [
    "fig = plt.figure()\n",
    "plt.axhline(linewidth=1, color='black', linestyle='--')\n",
    "plt.axvline(linewidth=1, color='black', linestyle='--')\n",
    "plt.plot(x1,x2, lw=2, color='red')"
   ]
  },
  {
   "cell_type": "markdown",
   "metadata": {},
   "source": [
    "We can redefine our points using `np.linspace`. This allows us to get many more points."
   ]
  },
  {
   "cell_type": "code",
   "execution_count": null,
   "metadata": {},
   "outputs": [],
   "source": [
    "import numpy as np\n",
    "x1_highres = np.linspace(-2,2,40)\n",
    "x2_highres = x1_highres**2"
   ]
  },
  {
   "cell_type": "code",
   "execution_count": null,
   "metadata": {},
   "outputs": [],
   "source": [
    "fig = plt.figure()\n",
    "plt.plot(x1,x2)\n",
    "plt.plot(x1_highres,x2_highres)"
   ]
  },
  {
   "cell_type": "markdown",
   "metadata": {},
   "source": [
    "Lots of arguments can be given to plotting functions.  It's worth knowing how to use them."
   ]
  },
  {
   "cell_type": "code",
   "execution_count": null,
   "metadata": {},
   "outputs": [],
   "source": [
    "fig = plt.figure()\n",
    "\n",
    "##\n",
    "## Comment and uncomment each of the following in turn to see how the plot changes\n",
    "##\n",
    "\n",
    "plt.plot(x1,x2)\n",
    "plt.plot(x1_highres,x2_highres)\n",
    "\n",
    "plt.plot(x1_highres,x2_highres,color=\"blue\",linestyle=\"solid\")\n",
    "plt.plot(x1_highres,x2_highres,color=\"green\",linestyle=\"dashed\")\n",
    "plt.plot(x1_highres,x2_highres,color=\"green\",linestyle=\"dashdot\")\n",
    "plt.plot(x1_highres,x2_highres,color=\"red\",linestyle=\"dotted\")\n",
    "\n",
    "plt.plot(x1_highres,x2_highres,color=\"red\",linestyle=\"dashed\",linewidth=3)\n",
    "plt.plot(x1_highres,x2_highres,color=\"red\",linestyle=\"dashed\",linewidth=1,marker='o')\n",
    "plt.plot(x1_highres,x2_highres,color=\"red\",linestyle=\"dashed\",linewidth=1,marker=',')\n",
    "plt.plot(x1_highres,x2_highres,color=\"red\",linestyle=\"dashed\",linewidth=1,marker='v')\n",
    "plt.plot(x1_highres,x2_highres,color=\"red\",linestyle=\"dashed\",linewidth=1,marker='^')\n",
    "plt.plot(x1_highres,x2_highres,color=\"red\",linestyle=\"dashed\",linewidth=1,marker='s')\n",
    "plt.plot(x1_highres,x2_highres,color=\"red\",linestyle=\"dashed\",linewidth=1,marker='p')\n",
    "plt.plot(x1_highres,x2_highres,color=\"red\",linestyle=\"dashed\",linewidth=1,marker='*')\n",
    "\n",
    "plt.plot(x1_highres,x2_highres,color=\"red\",linestyle=\"dashed\",linewidth=3,marker='o',markerfacecolor='blue')\n",
    "\n",
    "plt.plot(x1_highres,x2_highres,color=\"red\",linestyle=\"dashed\",linewidth=3,marker='o',markerfacecolor='blue',markersize=5)"
   ]
  },
  {
   "cell_type": "markdown",
   "metadata": {},
   "source": [
    "You can also set titles and axis labels for plots."
   ]
  },
  {
   "cell_type": "code",
   "execution_count": null,
   "metadata": {},
   "outputs": [],
   "source": [
    "fig = plt.figure()\n",
    "\n",
    "plt.plot(x1,x2)\n",
    "plt.plot(x1_highres,x2_highres)\n",
    "plt.title(\"$y=x^2$\")\n",
    "\n",
    "plt.xlabel(\"x-value\")\n",
    "plt.ylabel(\"y-value\")"
   ]
  },
  {
   "cell_type": "markdown",
   "metadata": {},
   "source": [
    "The thing above between the dollar signs is [LaTeX](https://matplotlib.org/3.1.1/tutorials/text/usetex.html), which is nice for equations, but dont worry if you dont know it. You can use text only in your labels and titles if you like.\n",
    "\n",
    "\n",
    "\n",
    "\n",
    "## Matplotlib Cheatsheet\n",
    "\n",
    "This section will serve as a cheat sheet for `matplotlib`, in addition to the intro to `matplotlib` included in last week's lab. You've probably already seen a lot of these plots in last week's lab and homework, or even earlier in this lab.\n",
    "\n",
    "Note: some of the functionality mentioned here was done in last week's lab using explicitly defined axes and figure objects. While this allows greater flexibility, often times it is more convenient to just plot using plt (which uses an implicit axes object in the background). This is enough if you just need one plot per cell. In future homeworks in labs, feel free to use whichever method feels more natural for you.\n",
    "\n",
    "\n",
    "\n",
    "Simple $y$ vs $x$ line plot using `plt.plot`."
   ]
  },
  {
   "cell_type": "code",
   "execution_count": null,
   "metadata": {},
   "outputs": [],
   "source": [
    "xs = np.arange(-5, 6)\n",
    "ys = xs**2\n",
    "\n",
    "plt.plot(xs, ys)\n",
    "\n",
    "plt.title(\"parabola\")\n",
    "plt.xlabel(\"x value\")\n",
    "plt.ylabel(\"y value\")"
   ]
  },
  {
   "cell_type": "markdown",
   "metadata": {},
   "source": [
    "We can also do a scatterplot with `plt.scatter`."
   ]
  },
  {
   "cell_type": "code",
   "execution_count": null,
   "metadata": {},
   "outputs": [],
   "source": [
    "xs = np.arange(-5, 6)\n",
    "ys = xs**2\n",
    "\n",
    "plt.scatter(xs, ys)\n",
    "\n",
    "plt.title(\"scatter parabola -- no line\")\n",
    "plt.xlabel(\"x value\")\n",
    "plt.ylabel(\"y value\")"
   ]
  },
  {
   "cell_type": "markdown",
   "metadata": {},
   "source": [
    "We can plot multiple functions on the same graph"
   ]
  },
  {
   "cell_type": "code",
   "execution_count": null,
   "metadata": {},
   "outputs": [],
   "source": [
    "xs = np.arange(20)\n",
    "y1 = np.sin(2*np.pi*xs/20)\n",
    "y2 = np.cos(2*np.pi*xs/20)\n",
    "\n",
    "plt.plot(xs, y1)\n",
    "plt.plot(xs, y2)\n",
    "\n",
    "plt.title(\"Two sinusoids\")\n",
    "plt.xlabel(\"x value\")\n",
    "plt.ylabel(\"y value\")"
   ]
  },
  {
   "cell_type": "markdown",
   "metadata": {},
   "source": [
    "We can also create a legend using `plt.legend`."
   ]
  },
  {
   "cell_type": "code",
   "execution_count": null,
   "metadata": {},
   "outputs": [],
   "source": [
    "xs = np.arange(20)\n",
    "y1 = np.sin(2*np.pi*xs/20)\n",
    "y2 = np.cos(2*np.pi*xs/20)\n",
    "\n",
    "plt.plot(xs, y1, label='sin')\n",
    "plt.plot(xs, y2, label='cos')\n",
    "plt.legend()\n",
    "\n",
    "plt.title(\"Two sinusoids: with a legend\")\n",
    "plt.xlabel(\"x value\")\n",
    "plt.ylabel(\"y value\")"
   ]
  },
  {
   "cell_type": "markdown",
   "metadata": {},
   "source": [
    "Label our axes and graph using `plt.xlabel`, `plt.ylabel`, and `plt.title`."
   ]
  },
  {
   "cell_type": "code",
   "execution_count": null,
   "metadata": {},
   "outputs": [],
   "source": [
    "xs = np.arange(20)\n",
    "y1 = np.sin(2*np.pi*xs/20)\n",
    "y2 = np.cos(2*np.pi*xs/20)\n",
    "\n",
    "plt.plot(xs, y1, label='$\\sin$') # We can use latex in between $$\n",
    "plt.plot(xs, y2, label='$\\cos$') # We can use latex in between $$\n",
    "plt.legend()\n",
    "\n",
    "plt.ylabel('$y$-axis') # We can use latex in between $$\n",
    "plt.xlabel('$x$-axis') # We can use latex in between $$\n",
    "plt.title('Graph of $y=\\sin(x)$ and $y=\\cos(x)$')  # We can use latex in between $$."
   ]
  },
  {
   "cell_type": "markdown",
   "metadata": {},
   "source": [
    "Scale our axes using `plt.xlim` and `plt.ylim`"
   ]
  },
  {
   "cell_type": "code",
   "execution_count": null,
   "metadata": {},
   "outputs": [],
   "source": [
    "xs = np.arange(20)\n",
    "y1 = np.sin(2*np.pi*xs/20)\n",
    "y2 = np.cos(2*np.pi*xs/20)\n",
    "\n",
    "plt.plot(xs, y1, label='sin')\n",
    "plt.plot(xs, y2, label='cos')\n",
    "plt.legend()\n",
    "\n",
    "plt.ylabel('$y$-axis') # We can use LaTeX in between $$\n",
    "plt.xlabel('$x$-axis') # We can use LaTeX in between $$\n",
    "plt.title('Graph of $y=\\sin(x)$ and $y=\\cos(x)$')  # We can use LaTeX in between $$.\n",
    "\n",
    "plt.xlim(-10, 30)\n",
    "plt.ylim(-5, 5)"
   ]
  },
  {
   "cell_type": "markdown",
   "metadata": {},
   "source": [
    "Notice how the $x$-axis seems to be more stretched out than the $y$-axis? Most of the time this is fine, but if you want to plot something where the $x$-$y$ aspect ratio really matters, you can do the following:"
   ]
  },
  {
   "cell_type": "code",
   "execution_count": null,
   "metadata": {},
   "outputs": [],
   "source": [
    "xs = np.arange(20)\n",
    "y1 = np.sin(2*np.pi*xs/20)\n",
    "y2 = np.cos(2*np.pi*xs/20)\n",
    "\n",
    "plt.plot(xs, y1, label='sin')\n",
    "plt.plot(xs, y2, label='cos')\n",
    "plt.legend()\n",
    "\n",
    "plt.ylabel('$y$-axis')\n",
    "plt.xlabel('$x$-axis')\n",
    "plt.title('Graph of $y=\\sin(x)$ and $y=\\cos(x)$')  # We can use LaTeX in between $$.\n",
    "\n",
    "plt.xlim(-10, 30)\n",
    "plt.ylim(-10, 30)\n",
    "\n",
    "plt.gca().set_aspect('equal')  # <--- do this to fix aspect ratio"
   ]
  },
  {
   "cell_type": "markdown",
   "metadata": {},
   "source": [
    "We can also use `plt.scatter` to plot a bunch of 2D points. Let's first generate a bunch of 2D points between $[0, 1) \\times [0, 1)$. Note that each column of this matrix is a 2-dimensional vector that contains the $x$- and $y$-coordinates of a point."
   ]
  },
  {
   "cell_type": "code",
   "execution_count": null,
   "metadata": {},
   "outputs": [],
   "source": [
    "points = np.random.rand(2, 10)\n",
    "print('points:\\n{}'.format(points))\n",
    "print()\n",
    "print('points has shape', points.shape)"
   ]
  },
  {
   "cell_type": "markdown",
   "metadata": {},
   "source": [
    "We can slice the first row of points to obtain all the $x$ coordinates. We can slice the second row of points to obtain all the $y$ coordinates."
   ]
  },
  {
   "cell_type": "code",
   "execution_count": null,
   "metadata": {},
   "outputs": [],
   "source": [
    "xs = points[0,:]\n",
    "ys = points[1,:]\n",
    "\n",
    "print('xs (shape: {}):\\n{}'.format(xs.shape, xs))\n",
    "print()\n",
    "print('ys (shape: {}):\\n{}'.format(ys.shape, ys))"
   ]
  },
  {
   "cell_type": "markdown",
   "metadata": {},
   "source": [
    "Once we have all the `xs` and `ys`, we can use `plt.scatter`. Note that `plt.scatter` will match the $i$th element of `xs` with the $i$th element of `ys`. So good thing we generated `xs` and `ys` together using matrix! This will ensure the coordinates are aligned."
   ]
  },
  {
   "cell_type": "code",
   "execution_count": null,
   "metadata": {},
   "outputs": [],
   "source": [
    "plt.scatter(xs, ys)\n",
    "\n",
    "plt.title(\"Our beautiful scatter plot\")\n",
    "plt.xlabel(\"$x$ value\")\n",
    "plt.ylabel(\"$y$ value\")"
   ]
  }
 ],
 "metadata": {
  "kernelspec": {
   "display_name": "Python 3",
   "language": "python",
   "name": "python3"
  }
 },
 "nbformat": 4,
 "nbformat_minor": 4
}
